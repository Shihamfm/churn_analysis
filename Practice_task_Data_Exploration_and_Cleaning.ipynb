{
 "cells": [
  {
   "cell_type": "markdown",
   "metadata": {
    "id": "dKU2obxkKH8c"
   },
   "source": [
    "# Welcome the practice notebook \n",
    "--- \n",
    "The objective of this practice is to provide a hands-on experience in data exploration and cleaning. Please follow the instructions provided in the  notebook to complete the practice."
   ]
  },
  {
   "cell_type": "markdown",
   "metadata": {
    "id": "M1xXctOSKf36"
   },
   "source": [
    "Installing pyspark"
   ]
  },
  {
   "cell_type": "code",
   "execution_count": 1,
   "metadata": {
    "colab": {
     "base_uri": "https://localhost:8080/"
    },
    "id": "bLd6XoJtJZP4",
    "outputId": "d42992e3-86e1-4510-ba37-2e0e25fe4590"
   },
   "outputs": [
    {
     "name": "stdout",
     "output_type": "stream",
     "text": [
      "Requirement already satisfied: pyspark in /opt/conda/lib/python3.10/site-packages (3.5.1)\r\n",
      "Requirement already satisfied: py4j==0.10.9.7 in /opt/conda/lib/python3.10/site-packages (from pyspark) (0.10.9.7)\r\n"
     ]
    }
   ],
   "source": [
    "#!pip install pyspark"
   ]
  },
  {
   "cell_type": "markdown",
   "metadata": {
    "id": "1gA6GqvzKpR6"
   },
   "source": [
    "Importing the needed modules and creating the spark session"
   ]
  },
  {
   "cell_type": "code",
   "execution_count": 10,
   "metadata": {
    "colab": {
     "base_uri": "https://localhost:8080/",
     "height": 222
    },
    "id": "c-YsrJbjKptK",
    "outputId": "c316ee30-bbcc-4446-b5d9-f5425451f525"
   },
   "outputs": [
    {
     "data": {
      "text/html": [
       "\n",
       "            <div>\n",
       "                <p><b>SparkSession - in-memory</b></p>\n",
       "                \n",
       "        <div>\n",
       "            <p><b>SparkContext</b></p>\n",
       "\n",
       "            <p><a href=\"http://JKH-OCTAVE-SHIHAM:4041\">Spark UI</a></p>\n",
       "\n",
       "            <dl>\n",
       "              <dt>Version</dt>\n",
       "                <dd><code>v3.4.0</code></dd>\n",
       "              <dt>Master</dt>\n",
       "                <dd><code>local[*]</code></dd>\n",
       "              <dt>AppName</dt>\n",
       "                <dd><code>Customer_Churn_Prediction</code></dd>\n",
       "            </dl>\n",
       "        </div>\n",
       "        \n",
       "            </div>\n",
       "        "
      ],
      "text/plain": [
       "<pyspark.sql.session.SparkSession at 0x28905a13550>"
      ]
     },
     "execution_count": 10,
     "metadata": {},
     "output_type": "execute_result"
    }
   ],
   "source": [
    "# importing spark session\n",
    "from pyspark.sql import SparkSession\n",
    "\n",
    "# data visualization modules \n",
    "import matplotlib.pyplot as plt\n",
    "import seaborn as sns\n",
    "import plotly.express as px \n",
    "\n",
    "# pandas module \n",
    "import pandas as pd\n",
    "\n",
    "# pyspark SQL functions \n",
    "from pyspark.sql import functions as f\n",
    "\n",
    "# creating the spark session\n",
    "spark = SparkSession.builder.appName(\"Customer_Churn_Prediction\").getOrCreate()\n",
    "spark"
   ]
  },
  {
   "cell_type": "markdown",
   "metadata": {
    "id": "Jn6fCpN5K5jb"
   },
   "source": [
    "Loading the `parctice-dataset.csv` file"
   ]
  },
  {
   "cell_type": "code",
   "execution_count": 3,
   "metadata": {
    "colab": {
     "base_uri": "https://localhost:8080/"
    },
    "id": "5EKyTAZYKyTr",
    "outputId": "f0a99f3e-70e8-434e-920d-54d3341d2f8d"
   },
   "outputs": [
    {
     "name": "stdout",
     "output_type": "stream",
     "text": [
      "+----------+------------+------------+------------+------------+----------------+\n",
      "|EmployeeID|        KPI1|        KPI2|        KPI3|        KPI4|Current Employee|\n",
      "+----------+------------+------------+------------+------------+----------------+\n",
      "|         0|-1.039682384|-0.716426478|-0.513467693| 0.414661471|               0|\n",
      "|         1| 0.237093465|-0.820123996|-0.865801274| 0.438661047|               0|\n",
      "|         2|-2.077948003| 0.185688029|-0.132418305| 0.711280402|               1|\n",
      "|         3|-0.684711628| 1.522335039| 1.674082146|-1.234292085|               1|\n",
      "|         4|-1.137117653|-0.555136531|-0.176780706|-1.776008972|               0|\n",
      "+----------+------------+------------+------------+------------+----------------+\n",
      "only showing top 5 rows\n",
      "\n"
     ]
    }
   ],
   "source": [
    "data = spark.read.format('csv').option('header',True).option('inferSchema',True).load('practice_dataset.csv')\n",
    "data.show(5)\n"
   ]
  },
  {
   "cell_type": "markdown",
   "metadata": {
    "id": "G5CQl_LEVHW3"
   },
   "source": [
    "How many rows and columns do we have in the dataset? "
   ]
  },
  {
   "cell_type": "code",
   "execution_count": 4,
   "metadata": {
    "colab": {
     "base_uri": "https://localhost:8080/"
    },
    "id": "oLhqklGYVDsx",
    "outputId": "5004e93e-37f2-440e-e0ad-13a2c4eff354"
   },
   "outputs": [
    {
     "data": {
      "text/plain": [
       "(10000, 6)"
      ]
     },
     "execution_count": 4,
     "metadata": {},
     "output_type": "execute_result"
    }
   ],
   "source": [
    "data.count(), len(data.columns) "
   ]
  },
  {
   "cell_type": "markdown",
   "metadata": {
    "id": "XU590GfcViTP"
   },
   "source": [
    "Create a histogram matrix to analyse the distributions of the numerical columns. \n",
    "\n",
    "- *Hint 1: List of the numerical columns = `[\"KPI1\",\"KPI2\",\"KPI3\",\"KPI4\"]`* <br>\n",
    "- *Hint 2: To create the histograms, first you will need to convert the pyspark dataframe into a pandas dataframe.*"
   ]
  },
  {
   "cell_type": "code",
   "execution_count": 5,
   "metadata": {},
   "outputs": [
    {
     "data": {
      "text/plain": [
       "[('EmployeeID', 'int'),\n",
       " ('KPI1', 'double'),\n",
       " ('KPI2', 'double'),\n",
       " ('KPI3', 'double'),\n",
       " ('KPI4', 'double'),\n",
       " ('Current Employee', 'int')]"
      ]
     },
     "execution_count": 5,
     "metadata": {},
     "output_type": "execute_result"
    }
   ],
   "source": [
    "data.dtypes"
   ]
  },
  {
   "cell_type": "code",
   "execution_count": 6,
   "metadata": {
    "colab": {
     "base_uri": "https://localhost:8080/",
     "height": 525
    },
    "id": "0JtVJ2SGVrV3",
    "outputId": "739b727b-483d-4ea4-a951-61e03af1aa58"
   },
   "outputs": [],
   "source": [
    "numerical_columns = [\"KPI1\",\"KPI2\",\"KPI3\",\"KPI4\"]\n",
    "data_num = data.select(numerical_columns).toPandas()"
   ]
  },
  {
   "cell_type": "code",
   "execution_count": 7,
   "metadata": {},
   "outputs": [
    {
     "name": "stderr",
     "output_type": "stream",
     "text": [
      "C:\\Users\\shihamf\\AppData\\Local\\Temp\\ipykernel_30716\\767822754.py:3: UserWarning: To output multiple subplots, the figure containing the passed axes is being cleared.\n",
      "  data_num.hist(ax=ax)\n"
     ]
    },
    {
     "data": {
      "image/png": "[encoded data removed]",
      "text/plain": [
       "<Figure size 1500x500 with 4 Axes>"
      ]
     },
     "metadata": {},
     "output_type": "display_data"
    }
   ],
   "source": [
    "fig = plt.figure(figsize = (15,5))\n",
    "ax = fig.gca()\n",
    "data_num.hist(ax=ax)\n",
    "plt.show()"
   ]
  },
  {
   "cell_type": "markdown",
   "metadata": {
    "id": "K3RKi7OHWJWP"
   },
   "source": [
    "Observe the distributions of the numerical columns in the histograms generated in the previous part.\n",
    "- Find the columns with outilers\n",
    "- Remove the outliers"
   ]
  },
  {
   "cell_type": "code",
   "execution_count": 8,
   "metadata": {
    "colab": {
     "base_uri": "https://localhost:8080/"
    },
    "id": "e0DVLkyrWTF_",
    "outputId": "cec525cc-6157-4458-ee5b-d8691493afe7"
   },
   "outputs": [
    {
     "data": {
      "text/html": [
       "<div>\n",
       "<style scoped>\n",
       "    .dataframe tbody tr th:only-of-type {\n",
       "        vertical-align: middle;\n",
       "    }\n",
       "\n",
       "    .dataframe tbody tr th {\n",
       "        vertical-align: top;\n",
       "    }\n",
       "\n",
       "    .dataframe thead th {\n",
       "        text-align: right;\n",
       "    }\n",
       "</style>\n",
       "<table border=\"1\" class=\"dataframe\">\n",
       "  <thead>\n",
       "    <tr style=\"text-align: right;\">\n",
       "      <th></th>\n",
       "      <th>KPI1</th>\n",
       "      <th>KPI2</th>\n",
       "      <th>KPI3</th>\n",
       "      <th>KPI4</th>\n",
       "    </tr>\n",
       "  </thead>\n",
       "  <tbody>\n",
       "    <tr>\n",
       "      <th>count</th>\n",
       "      <td>9996.000000</td>\n",
       "      <td>10000.000000</td>\n",
       "      <td>9998.000000</td>\n",
       "      <td>9997.000000</td>\n",
       "    </tr>\n",
       "    <tr>\n",
       "      <th>mean</th>\n",
       "      <td>0.016839</td>\n",
       "      <td>0.005517</td>\n",
       "      <td>0.004257</td>\n",
       "      <td>-0.002467</td>\n",
       "    </tr>\n",
       "    <tr>\n",
       "      <th>std</th>\n",
       "      <td>0.995379</td>\n",
       "      <td>1.150657</td>\n",
       "      <td>1.226913</td>\n",
       "      <td>1.019540</td>\n",
       "    </tr>\n",
       "    <tr>\n",
       "      <th>min</th>\n",
       "      <td>-3.513933</td>\n",
       "      <td>-2.006481</td>\n",
       "      <td>-2.545266</td>\n",
       "      <td>-3.781217</td>\n",
       "    </tr>\n",
       "    <tr>\n",
       "      <th>25%</th>\n",
       "      <td>-0.653304</td>\n",
       "      <td>-1.005110</td>\n",
       "      <td>-1.012192</td>\n",
       "      <td>-0.696898</td>\n",
       "    </tr>\n",
       "    <tr>\n",
       "      <th>50%</th>\n",
       "      <td>0.009675</td>\n",
       "      <td>-0.357864</td>\n",
       "      <td>-0.325057</td>\n",
       "      <td>-0.005431</td>\n",
       "    </tr>\n",
       "    <tr>\n",
       "      <th>75%</th>\n",
       "      <td>0.681623</td>\n",
       "      <td>1.006682</td>\n",
       "      <td>1.008359</td>\n",
       "      <td>0.678246</td>\n",
       "    </tr>\n",
       "    <tr>\n",
       "      <th>max</th>\n",
       "      <td>3.719265</td>\n",
       "      <td>25.000000</td>\n",
       "      <td>3.838220</td>\n",
       "      <td>15.000000</td>\n",
       "    </tr>\n",
       "  </tbody>\n",
       "</table>\n",
       "</div>"
      ],
      "text/plain": [
       "              KPI1          KPI2         KPI3         KPI4\n",
       "count  9996.000000  10000.000000  9998.000000  9997.000000\n",
       "mean      0.016839      0.005517     0.004257    -0.002467\n",
       "std       0.995379      1.150657     1.226913     1.019540\n",
       "min      -3.513933     -2.006481    -2.545266    -3.781217\n",
       "25%      -0.653304     -1.005110    -1.012192    -0.696898\n",
       "50%       0.009675     -0.357864    -0.325057    -0.005431\n",
       "75%       0.681623      1.006682     1.008359     0.678246\n",
       "max       3.719265     25.000000     3.838220    15.000000"
      ]
     },
     "execution_count": 8,
     "metadata": {},
     "output_type": "execute_result"
    }
   ],
   "source": [
    "data_num.describe()"
   ]
  },
  {
   "cell_type": "code",
   "execution_count": 13,
   "metadata": {},
   "outputs": [
    {
     "data": {
      "image/png": "[encoded data removed]",
      "text/plain": [
       "<Figure size 1500x1500 with 4 Axes>"
      ]
     },
     "metadata": {},
     "output_type": "display_data"
    }
   ],
   "source": [
    "fig, axes = plt.subplots(1,4, figsize=(15,15))\n",
    "\n",
    "for i, num_col in enumerate(data_num.columns):\n",
    "    sns.boxplot(data_num[num_col], ax=axes[i])\n",
    "    axes[i].set_title(f'Box plot of {num_col}')"
   ]
  },
  {
   "cell_type": "code",
   "execution_count": 15,
   "metadata": {},
   "outputs": [
    {
     "name": "stdout",
     "output_type": "stream",
     "text": [
      "Count of rows before removing the outliers:  10000\n",
      "Count of rows after removing the outliers:  9995\n"
     ]
    }
   ],
   "source": [
    "#Removing the outlier in KPI2 and KPI4 columns\n",
    "print('Count of rows before removing the outliers: ',data.count())\n",
    "data = data.filter(f.col('KPI2') < 5)\n",
    "data = data.filter(f.col('KPI4') < 5)\n",
    "print('Count of rows after removing the outliers: ',data.count())"
   ]
  },
  {
   "cell_type": "markdown",
   "metadata": {
    "id": "B59cm1jwXBuX"
   },
   "source": [
    "Find the missing values in the dataset. "
   ]
  },
  {
   "cell_type": "code",
   "execution_count": 23,
   "metadata": {
    "colab": {
     "base_uri": "https://localhost:8080/"
    },
    "id": "r-QiT3txWyj3",
    "outputId": "ed0d1139-739e-4c84-eaae-64629d48f174"
   },
   "outputs": [
    {
     "name": "stdout",
     "output_type": "stream",
     "text": [
      "+---------------+\n",
      "|Null_EmployeeID|\n",
      "+---------------+\n",
      "|              0|\n",
      "+---------------+\n",
      "\n",
      "+---------+\n",
      "|Null_KPI1|\n",
      "+---------+\n",
      "|        4|\n",
      "+---------+\n",
      "\n",
      "+---------+\n",
      "|Null_KPI2|\n",
      "+---------+\n",
      "|        0|\n",
      "+---------+\n",
      "\n",
      "+---------+\n",
      "|Null_KPI3|\n",
      "+---------+\n",
      "|        2|\n",
      "+---------+\n",
      "\n",
      "+---------+\n",
      "|Null_KPI4|\n",
      "+---------+\n",
      "|        0|\n",
      "+---------+\n",
      "\n",
      "+---------------------+\n",
      "|Null_Current Employee|\n",
      "+---------------------+\n",
      "|                    0|\n",
      "+---------------------+\n",
      "\n"
     ]
    }
   ],
   "source": [
    "for columns in data.columns:\n",
    "    data.select(\n",
    "    f.count(\n",
    "        f.when(f.col(columns).isNull(), 'Null')\n",
    "        ).alias(f'Null_{columns}')\n",
    "    ).show()"
   ]
  },
  {
   "cell_type": "code",
   "execution_count": 24,
   "metadata": {},
   "outputs": [],
   "source": [
    "#There are null values in KPI 1 & KPI3"
   ]
  },
  {
   "cell_type": "markdown",
   "metadata": {
    "id": "cMOG53waYjoI"
   },
   "source": [
    "Use **Mean Imputer** to fill the missing values"
   ]
  },
  {
   "cell_type": "code",
   "execution_count": 26,
   "metadata": {
    "colab": {
     "base_uri": "https://localhost:8080/"
    },
    "id": "bYK7AF1aYpAW",
    "outputId": "f8b865be-8220-4020-9261-984742394eae"
   },
   "outputs": [
    {
     "name": "stdout",
     "output_type": "stream",
     "text": [
      "+----------+------------+------------+------------+------------+----------------+\n",
      "|EmployeeID|        KPI1|        KPI2|        KPI3|        KPI4|Current Employee|\n",
      "+----------+------------+------------+------------+------------+----------------+\n",
      "|         0|-1.039682384|-0.716426478|-0.513467693| 0.414661471|               0|\n",
      "|         1| 0.237093465|-0.820123996|-0.865801274| 0.438661047|               0|\n",
      "|         2|-2.077948003| 0.185688029|-0.132418305| 0.711280402|               1|\n",
      "|         3|-0.684711628| 1.522335039| 1.674082146|-1.234292085|               1|\n",
      "|         4|-1.137117653|-0.555136531|-0.176780706|-1.776008972|               0|\n",
      "|         5|-1.052934587| 0.119522573|-0.188215465|-0.867239924|               1|\n",
      "|         6| 0.953745557| 0.738929252|   0.6416214|-1.069803493|               1|\n",
      "|         7|-0.623751805| 1.770892731| 2.084658776| 0.436191916|               1|\n",
      "|         8| 0.998210721| -0.74099461|-0.356348072|-1.950751965|               0|\n",
      "|         9| 0.758314405| 1.076384475| 1.131034824|-3.015482485|               1|\n",
      "|        10| 0.077446987|-0.843088361|-0.880547803| -0.08415317|               0|\n",
      "|        11|-0.956805146|-1.091174781|-1.295454027| 1.044791141|               0|\n",
      "|        12| 0.995712549| 1.700963674| 2.007093291| 1.931698523|               1|\n",
      "|        13| 0.395978553| 0.209047934| -0.16045266|-1.455579401|               1|\n",
      "|        14| 0.177306559|-0.866959365|-0.553164976| 1.714738572|               0|\n",
      "|        15| 0.027309988| 0.608264436| 0.445036924| 0.442507182|               1|\n",
      "|        16| 1.749741607| 1.312478572| 1.505352228|  -0.3628566|               1|\n",
      "|        17|-0.700475943|-1.352578351|-1.654399169|-1.260000648|               0|\n",
      "|        18|-0.151829603|-0.985443417|-1.001387705| 1.282372239|               0|\n",
      "|        19| 1.536147843|-1.290915014|-1.462398863| 0.271752371|               0|\n",
      "+----------+------------+------------+------------+------------+----------------+\n",
      "only showing top 20 rows\n",
      "\n"
     ]
    }
   ],
   "source": [
    "from pyspark.ml.feature import Imputer\n",
    "columns_with_missing_values = ['KPI1', 'KPI3']\n",
    "imputer = Imputer(\n",
    "    inputCols = columns_with_missing_values,\n",
    "    outputCols = columns_with_missing_values).setStrategy('mean')\n",
    "\n",
    "imputer = imputer.fit(data)\n",
    "data = imputer.transform(data)\n",
    "data.show()"
   ]
  },
  {
   "cell_type": "markdown",
   "metadata": {
    "id": "whcp-_jbbmQ-"
   },
   "source": [
    "Again, find the missing values in the dataset to make sure no missing value exists."
   ]
  },
  {
   "cell_type": "code",
   "execution_count": 27,
   "metadata": {
    "colab": {
     "base_uri": "https://localhost:8080/"
    },
    "id": "YUhsVtYQa5bm",
    "outputId": "3138e078-ecfd-4703-9769-6b790b950381"
   },
   "outputs": [
    {
     "name": "stdout",
     "output_type": "stream",
     "text": [
      "+---------------+\n",
      "|Null_EmployeeID|\n",
      "+---------------+\n",
      "|              0|\n",
      "+---------------+\n",
      "\n",
      "+---------+\n",
      "|Null_KPI1|\n",
      "+---------+\n",
      "|        0|\n",
      "+---------+\n",
      "\n",
      "+---------+\n",
      "|Null_KPI2|\n",
      "+---------+\n",
      "|        0|\n",
      "+---------+\n",
      "\n",
      "+---------+\n",
      "|Null_KPI3|\n",
      "+---------+\n",
      "|        0|\n",
      "+---------+\n",
      "\n",
      "+---------+\n",
      "|Null_KPI4|\n",
      "+---------+\n",
      "|        0|\n",
      "+---------+\n",
      "\n",
      "+---------------------+\n",
      "|Null_Current Employee|\n",
      "+---------------------+\n",
      "|                    0|\n",
      "+---------------------+\n",
      "\n"
     ]
    }
   ],
   "source": [
    "for columns in data.columns:\n",
    "    data.select(\n",
    "    f.count(\n",
    "        f.when(f.col(columns).isNull(), 'Null')\n",
    "        ).alias(f'Null_{columns}')\n",
    "    ).show()"
   ]
  },
  {
   "cell_type": "code",
   "execution_count": null,
   "metadata": {},
   "outputs": [],
   "source": []
  }
 ],
 "metadata": {
  "colab": {
   "provenance": []
  },
  "kernelspec": {
   "display_name": "Python 3 (ipykernel)",
   "language": "python",
   "name": "python3"
  },
  "language_info": {
   "codemirror_mode": {
    "name": "ipython",
    "version": 3
   },
   "file_extension": ".py",
   "mimetype": "text/x-python",
   "name": "python",
   "nbconvert_exporter": "python",
   "pygments_lexer": "ipython3",
   "version": "3.11.3"
  }
 },
 "nbformat": 4,
 "nbformat_minor": 4
}
